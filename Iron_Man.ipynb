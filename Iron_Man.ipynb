{
 "cells": [
  {
   "cell_type": "code",
   "execution_count": null,
   "metadata": {},
   "outputs": [],
   "source": [
    "import turtle\n",
    "\n",
    "face_one = [\n",
    "  [(-40, 120), (-70, 260), (-130, 230), (-170, 200), (-170, 100), (-160, 40), (-170, 10), (-150, -10), (-140, 10),(-40, -20), (0, -20)],\n",
    "\n",
    "  [(0, -20), (40, -20), (140, 10), (150, -10), (170, 10), (160, 40), (170, 100), (170, 200), (130, 230), (70, 260),(40, 120), (0, 120)]\n",
    "]\n",
    "\n",
    "face_two = [\n",
    "  [(-40, -30), (-50, -40), (-100, -46), (-130, -40), (-176, 0), (-186, -30), (-186, -40), (-120, -170), (-110, -210),(-80, -230), (-64, -210), (0, -210)],\n",
    "\n",
    "  [(0, -210), (64, -210), (80, -230), (110, -210), (120, -170), (186, -40), (186, -30), (176, 0), (130, -40),(100, -46), (50, -40), (40, -30), (0, -30)]\n",
    "]\n",
    "\n",
    "face_three = [\n",
    "  [(-60, -220), (-80, -240), (-110, -220), (-120, -250), (-90, -280), (-60, -260), (-30, -260), (-20, -250),(0, -250)],\n",
    "\n",
    "  [(0, -250), (20, -250), (30, -260), (60, -260), (90, -280), (120, -250), (110, -220), (80, -240), (60, -220),(0,-220)]\n",
    "]\n",
    "\n",
    "turtle.hideturtle()\n",
    "\n",
    "turtle.bgcolor(\"Yellow\")\n",
    "\n",
    "turtle.setup(500, 600)\n",
    "\n",
    "face_one_start = [0, 120]\n",
    "face_two_start = [0, -30]\n",
    "face_three_start = [0, -220]\n",
    "\n",
    "turtle.speed(1.5)\n",
    "\n",
    "# we called them parameters\n",
    "def draw_face(face_details_list, Start_piont):\n",
    "    turtle.penup()\n",
    "    turtle.goto(Start_piont)\n",
    "    turtle.pendown()\n",
    "    turtle.color(\"Red\")\n",
    "    turtle.begin_fill()\n",
    "\n",
    "    for i in range(len(face_details_list[0])):\n",
    "        x, y = face_details_list[0][i]\n",
    "        turtle.goto(x, y)\n",
    "\n",
    "    for i in range(len(face_details_list[1])):\n",
    "        x, y = face_details_list[1][i]\n",
    "        turtle.goto(x, y)\n",
    "\n",
    "    turtle.end_fill()\n",
    "\n",
    "# we called them arguments\n",
    "draw_face(face_one, face_one_start)\n",
    "draw_face(face_two, face_two_start)\n",
    "draw_face(face_three, face_three_start)"
   ]
  },
  {
   "attachments": {},
   "cell_type": "markdown",
   "metadata": {},
   "source": [
    "----------------------------------------------------------------------------"
   ]
  },
  {
   "cell_type": "code",
   "execution_count": null,
   "metadata": {},
   "outputs": [],
   "source": [
    "from calendar import *\n",
    "from datetime import date, datetime\n",
    "year = int(input(\"Enter a Year: \"))\n",
    "print(calendar(year, 2, 1, 8, 4))\n",
    "print(datetime.now().strftime(\"%A >> %B %d %Y\"))"
   ]
  }
 ],
 "metadata": {
  "kernelspec": {
   "display_name": "Python 3",
   "language": "python",
   "name": "python3"
  },
  "language_info": {
   "codemirror_mode": {
    "name": "ipython",
    "version": 3
   },
   "file_extension": ".py",
   "mimetype": "text/x-python",
   "name": "python",
   "nbconvert_exporter": "python",
   "pygments_lexer": "ipython3",
   "version": "3.10.5"
  },
  "orig_nbformat": 4
 },
 "nbformat": 4,
 "nbformat_minor": 2
}
