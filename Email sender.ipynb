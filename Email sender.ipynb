{
 "cells": [
  {
   "cell_type": "code",
   "execution_count": 3,
   "metadata": {},
   "outputs": [],
   "source": [
    "# Email Messages Sender with Python:\n",
    "\n",
    "# First go to \"https://myaccount.google.com/apppasswords\"\n",
    "# Then Make a pass for other device \n",
    "\n",
    "from email.message import EmailMessage\n",
    "import ssl\n",
    "import smtplib\n",
    "\n",
    "\n",
    "email_sender = '@gmail.com'\n",
    "email_password = ''\n",
    "\n",
    "email_receiver = 'camajed959@naymedia.com'\n",
    "\n",
    "subject = \"Don't be late !!\"\n",
    "body = \"\"\"\n",
    "Harry up !!\n",
    "\"\"\"\n",
    "\n",
    "em = EmailMessage()\n",
    "em['From'] = email_sender\n",
    "em['To'] = email_receiver\n",
    "em['Subject'] = subject\n",
    "em.set_content(body)\n",
    "\n",
    "context = ssl.create_default_context()\n",
    "\n",
    "with smtplib.SMTP_SSL('smtp.gmail.com', 465, context=context) as smtp:\n",
    "    smtp.login(email_sender, email_password)\n",
    "    smtp.sendmail(email_sender, email_receiver, em.as_string())"
   ]
  }
 ],
 "metadata": {
  "kernelspec": {
   "display_name": "Python 3",
   "language": "python",
   "name": "python3"
  },
  "language_info": {
   "codemirror_mode": {
    "name": "ipython",
    "version": 3
   },
   "file_extension": ".py",
   "mimetype": "text/x-python",
   "name": "python",
   "nbconvert_exporter": "python",
   "pygments_lexer": "ipython3",
   "version": "3.10.5"
  },
  "orig_nbformat": 4
 },
 "nbformat": 4,
 "nbformat_minor": 2
}
